{
 "cells": [
  {
   "cell_type": "code",
   "execution_count": null,
   "id": "simple-advance",
   "metadata": {},
   "outputs": [],
   "source": [
    "#importing libraries and functions\n",
    "import numpy as np\n",
    "import pandas as pd\n",
    "import matplotlib.pyplot as plt\n",
    "import seaborn as sns\n",
    "from sklearn.preprocessing import LabelEncoder\n",
    "from sklearn.ensemble import RandomForestClassifier\n",
    "from sklearn.metrics import classification_report, confusion_matrix\n",
    "from sklearn.model_selection import GridSearchCV, cross_val_score\n",
    "from sklearn.model_selection import train_test_split"
   ]
  },
  {
   "cell_type": "code",
   "execution_count": null,
   "id": "differential-remark",
   "metadata": {},
   "outputs": [],
   "source": [
    "#importing dataset\n",
    "file_path=\"F:/DC Material/My Run/Sem 2/2004 AI in enterprise systems/data.csv\"\n",
    "df=pd.read_csv(file_path)\n",
    "print(df.shape)\n",
    "df.head()\n",
    "#len(list(df.columns.values))"
   ]
  },
  {
   "cell_type": "code",
   "execution_count": null,
   "id": "automatic-virgin",
   "metadata": {},
   "outputs": [],
   "source": [
    "# drop last NaN column and id column\n",
    "df = df.drop(['Unnamed: 32'], axis = 1)\n",
    "df = df.drop('id', axis = 1)\n",
    "print(df.shape)\n",
    "df.head()"
   ]
  },
  {
   "cell_type": "code",
   "execution_count": null,
   "id": "varying-dairy",
   "metadata": {},
   "outputs": [],
   "source": [
    "# encoding the output\n",
    "le = LabelEncoder()\n",
    "df['diagnosis'] = le.fit_transform(df['diagnosis'])\n",
    "df['diagnosis'].value_counts()"
   ]
  },
  {
   "cell_type": "code",
   "execution_count": null,
   "id": "original-civilian",
   "metadata": {},
   "outputs": [],
   "source": [
    "# GET X (independent) WHICH IS ALL THE 30 COLOUMNX EXCEPT DIAGNOSIS \n",
    "x = df.iloc[:,1:]\n",
    "# AND Y (dependent) VARIABLE WHICH IS DIAGNOSIS\n",
    "y = df.iloc[:,0]\n",
    "\n",
    "print(x.shape)\n",
    "print(y.shape)"
   ]
  },
  {
   "cell_type": "code",
   "execution_count": null,
   "id": "arctic-romantic",
   "metadata": {},
   "outputs": [],
   "source": [
    "#Splitting the traing and testing sets\n",
    "x_train, x_test, y_train, y_test = train_test_split(x, y, test_size = 0.25, random_state = 16)"
   ]
  },
  {
   "cell_type": "code",
   "execution_count": null,
   "id": "efficient-gibson",
   "metadata": {},
   "outputs": [],
   "source": [
    "y_train.head()"
   ]
  },
  {
   "cell_type": "code",
   "execution_count": null,
   "id": "weighted-fountain",
   "metadata": {},
   "outputs": [],
   "source": [
    "# building the model\n",
    "model = RandomForestClassifier(n_estimators = 350, max_depth = 8)\n",
    "model.fit(x_train, y_train)\n",
    "# predicting using the model\n",
    "y_pred = model.predict(x_test)\n",
    "# building confusion matrix\n",
    "print(\"Training accuracy :\", model.score(x_train, y_train))\n",
    "print(\"Testing accuarcy :\", model.score(x_test, y_test))\n",
    "# classification report\n",
    "reprt = classification_report(y_test, y_pred)\n",
    "print(reprt)\n",
    "# confusion matrix \n",
    "con_mat = confusion_matrix(y_test, y_pred)\n",
    "print(cm)"
   ]
  }
 ],
 "metadata": {
  "kernelspec": {
   "display_name": "Python 3",
   "language": "python",
   "name": "python3"
  },
  "language_info": {
   "codemirror_mode": {
    "name": "ipython",
    "version": 3
   },
   "file_extension": ".py",
   "mimetype": "text/x-python",
   "name": "python",
   "nbconvert_exporter": "python",
   "pygments_lexer": "ipython3",
   "version": "3.8.5"
  }
 },
 "nbformat": 4,
 "nbformat_minor": 5
}
